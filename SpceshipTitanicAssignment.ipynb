{
 "cells": [
  {
   "cell_type": "code",
   "execution_count": 1,
   "metadata": {
    "id": "aPoTTbIwGr2r",
    "scrolled": true
   },
   "outputs": [
    {
     "ename": "ImportError",
     "evalue": "cannot import name 'plot_roc_curve' from 'sklearn.metrics' (C:\\Users\\User2\\anaconda3\\lib\\site-packages\\sklearn\\metrics\\__init__.py)",
     "output_type": "error",
     "traceback": [
      "\u001b[1;31m---------------------------------------------------------------------------\u001b[0m",
      "\u001b[1;31mImportError\u001b[0m                               Traceback (most recent call last)",
      "\u001b[1;32m~\\AppData\\Local\\Temp/ipykernel_12448/1728624694.py\u001b[0m in \u001b[0;36m<module>\u001b[1;34m\u001b[0m\n\u001b[0;32m     11\u001b[0m \u001b[1;31m#from xgboost import XGBClassifier\u001b[0m\u001b[1;33m\u001b[0m\u001b[1;33m\u001b[0m\u001b[0m\n\u001b[0;32m     12\u001b[0m \u001b[1;32mfrom\u001b[0m \u001b[0msklearn\u001b[0m\u001b[1;33m.\u001b[0m\u001b[0mmodel_selection\u001b[0m \u001b[1;32mimport\u001b[0m  \u001b[0mcross_val_score\u001b[0m\u001b[1;33m\u001b[0m\u001b[1;33m\u001b[0m\u001b[0m\n\u001b[1;32m---> 13\u001b[1;33m \u001b[1;32mfrom\u001b[0m \u001b[0msklearn\u001b[0m\u001b[1;33m.\u001b[0m\u001b[0mmetrics\u001b[0m \u001b[1;32mimport\u001b[0m \u001b[0mplot_roc_curve\u001b[0m\u001b[1;33m\u001b[0m\u001b[1;33m\u001b[0m\u001b[0m\n\u001b[0m\u001b[0;32m     14\u001b[0m \u001b[1;32mfrom\u001b[0m \u001b[0msklearn\u001b[0m\u001b[1;33m.\u001b[0m\u001b[0mmodel_selection\u001b[0m \u001b[1;32mimport\u001b[0m \u001b[0mtrain_test_split\u001b[0m \u001b[1;31m# for spliting data into training and testing sets\u001b[0m\u001b[1;33m\u001b[0m\u001b[1;33m\u001b[0m\u001b[0m\n\u001b[0;32m     15\u001b[0m \u001b[1;32mfrom\u001b[0m \u001b[0msklearn\u001b[0m\u001b[1;33m.\u001b[0m\u001b[0mmetrics\u001b[0m \u001b[1;32mimport\u001b[0m  \u001b[0mbalanced_accuracy_score\u001b[0m\u001b[1;33m,\u001b[0m \u001b[0mroc_auc_score\u001b[0m\u001b[1;33m,\u001b[0m \u001b[0mmake_scorer\u001b[0m \u001b[1;31m# for scoring\u001b[0m\u001b[1;33m\u001b[0m\u001b[1;33m\u001b[0m\u001b[0m\n",
      "\u001b[1;31mImportError\u001b[0m: cannot import name 'plot_roc_curve' from 'sklearn.metrics' (C:\\Users\\User2\\anaconda3\\lib\\site-packages\\sklearn\\metrics\\__init__.py)"
     ]
    }
   ],
   "source": [
    "# importing python libraries, that gives extra functionalities to to import data, clean the data, format the data, build and evaluate the XGBoost model.\n",
    "\n",
    "import pandas as pd # for loading and manipulating data and for One-Hot Encoding\n",
    "import numpy as np # calculating the mean and standard deviation\n",
    "import matplotlib.pyplot as plt # for visualisation\n",
    "import seaborn as sns  # for visualisation\n",
    "import plotly.express as px  # for visualisation\n",
    "from sklearn import metrics\n",
    "\n",
    "import xgboost as xgb # import XGBoost \n",
    "#from xgboost import XGBClassifier\n",
    "from sklearn.model_selection import  cross_val_score\n",
    "from sklearn.metrics import plot_roc_curve\n",
    "from sklearn.model_selection import train_test_split # for spliting data into training and testing sets\n",
    "from sklearn.metrics import  balanced_accuracy_score, roc_auc_score, make_scorer # for scoring \n",
    "from sklearn.model_selection import GridSearchCV # for cross validation\n",
    "from sklearn.metrics import confusion_matrix # to create a confusion matrix\n",
    "from sklearn.metrics import plot_confusion_matrix # for drawing a confusion matrix\n",
    "from sklearn.preprocessing import scale # for scaling and centring data\n",
    "from sklearn.decomposition import PCA # to perform PCA for plotting the data\n",
    "from sklearn.svm import SVC  # for making support vector machine for classification\n",
    "from sklearn.utils import resample # for downsampling the dataset\n",
    "\n",
    "%matplotlib inline"
   ]
  },
  {
   "cell_type": "code",
   "execution_count": null,
   "metadata": {},
   "outputs": [],
   "source": [
    "# import sys\n",
    "# !{sys.executable} -m pip install xgboost"
   ]
  },
  {
   "cell_type": "code",
   "execution_count": null,
   "metadata": {
    "colab": {
     "base_uri": "https://localhost:8080/",
     "height": 661
    },
    "id": "mlRz3sn2Hg0C",
    "outputId": "6b28defe-130f-4255-8696-90e5a6240a5e"
   },
   "outputs": [],
   "source": [
    "# importing training data and looking at the data\n",
    "train = pd.read_csv('train.csv')\n",
    "train"
   ]
  },
  {
   "cell_type": "code",
   "execution_count": null,
   "metadata": {
    "colab": {
     "base_uri": "https://localhost:8080/",
     "height": 661
    },
    "id": "u9JmvMYGHg6I",
    "outputId": "6d8a6ec1-5ba5-41d0-fb87-e587f5157f40"
   },
   "outputs": [],
   "source": [
    "# importing test data and looking at the data\n",
    "test = pd.read_csv('/content/test.csv')\n",
    "test"
   ]
  },
  {
   "cell_type": "code",
   "execution_count": null,
   "metadata": {
    "colab": {
     "base_uri": "https://localhost:8080/"
    },
    "id": "gfJwA1EeHg9w",
    "outputId": "7790d222-f7a4-4259-91b1-03ea8c933d86"
   },
   "outputs": [],
   "source": [
    "# checking the type of data in each column\n",
    "\n",
    "train.dtypes"
   ]
  },
  {
   "cell_type": "code",
   "execution_count": null,
   "metadata": {
    "colab": {
     "base_uri": "https://localhost:8080/"
    },
    "id": "NDNjIzgPHhA8",
    "outputId": "f4989ce1-1945-44c3-f0b9-2c8927e04cf7"
   },
   "outputs": [],
   "source": [
    "train.info()"
   ]
  },
  {
   "cell_type": "code",
   "execution_count": null,
   "metadata": {
    "colab": {
     "base_uri": "https://localhost:8080/"
    },
    "id": "Py7f0NVtHhFF",
    "outputId": "40a4e267-a386-41ea-c275-0a86a6c4a8ea"
   },
   "outputs": [],
   "source": [
    "train['Cabin'].unique"
   ]
  },
  {
   "cell_type": "code",
   "execution_count": null,
   "metadata": {
    "id": "yzBjUKqkHhJD"
   },
   "outputs": [],
   "source": [
    "# dropping columns not usefull\n",
    "\n",
    "train.drop(['Cabin','Name', 'PassengerId'], axis=1, inplace=True)"
   ]
  },
  {
   "cell_type": "code",
   "execution_count": null,
   "metadata": {
    "id": "DY-Lwgd7LpWq"
   },
   "outputs": [],
   "source": [
    "test.drop(['Cabin','Name'], axis=1, inplace=True)"
   ]
  },
  {
   "cell_type": "code",
   "execution_count": null,
   "metadata": {
    "colab": {
     "base_uri": "https://localhost:8080/"
    },
    "id": "atI3V7LWHhMz",
    "outputId": "46b18e04-8b27-43d1-c427-35b375ea630c"
   },
   "outputs": [],
   "source": [
    "train.isnull().sum()"
   ]
  },
  {
   "cell_type": "code",
   "execution_count": null,
   "metadata": {
    "colab": {
     "base_uri": "https://localhost:8080/"
    },
    "id": "x6Gmt-EHHhRd",
    "outputId": "ad96f785-ff80-4f00-8405-ad6b7e140209"
   },
   "outputs": [],
   "source": [
    "test.isnull().sum()"
   ]
  },
  {
   "cell_type": "code",
   "execution_count": null,
   "metadata": {
    "colab": {
     "base_uri": "https://localhost:8080/",
     "height": 300
    },
    "id": "AbxXKYVpHhZ7",
    "outputId": "0112f799-d2c4-45e8-980b-ce8468065be1"
   },
   "outputs": [],
   "source": [
    "train.describe()"
   ]
  },
  {
   "cell_type": "code",
   "execution_count": null,
   "metadata": {
    "id": "GMhNiJ_QHhck"
   },
   "outputs": [],
   "source": [
    "train['HomePlanet'].fillna(train['HomePlanet'].mode()[0],inplace = True)\n",
    "train['Age'].fillna(train['Age'].median(), inplace = True)\n",
    "train['CryoSleep'].fillna(train['CryoSleep'].mode()[0],inplace = True)\n",
    "train['Destination'].fillna(train['Destination'].mode()[0],inplace = True)\n",
    "train['VIP'].fillna(train['VIP'].mode()[0],inplace = True)\n",
    "train['RoomService'].fillna(train['RoomService'].median(), inplace = True)\n",
    "train['FoodCourt'].fillna(train['FoodCourt'].median(), inplace = True)\n",
    "train['ShoppingMall'].fillna(train['ShoppingMall'].median(), inplace = True)\n",
    "train['Spa'].fillna(train['Spa'].median(), inplace = True)\n",
    "train['VRDeck'].fillna(train['VRDeck'].median(), inplace = True)"
   ]
  },
  {
   "cell_type": "code",
   "execution_count": null,
   "metadata": {
    "id": "REi-NAO_Hhel"
   },
   "outputs": [],
   "source": [
    "test['HomePlanet'].fillna(test['HomePlanet'].mode()[0],inplace = True)\n",
    "test['Age'].fillna(test['Age'].median(), inplace = True)\n",
    "test['CryoSleep'].fillna(test['CryoSleep'].mode()[0],inplace = True)\n",
    "test['Destination'].fillna(test['Destination'].mode()[0],inplace = True)\n",
    "test['VIP'].fillna(test['VIP'].mode()[0],inplace = True)\n",
    "test['RoomService'].fillna(test['RoomService'].median(), inplace = True)\n",
    "test['FoodCourt'].fillna(test['FoodCourt'].median(), inplace = True)\n",
    "test['ShoppingMall'].fillna(test['ShoppingMall'].median(), inplace = True)\n",
    "test['Spa'].fillna(test['Spa'].median(), inplace = True)\n",
    "test['VRDeck'].fillna(test['VRDeck'].median(), inplace = True)"
   ]
  },
  {
   "cell_type": "code",
   "execution_count": null,
   "metadata": {
    "colab": {
     "base_uri": "https://localhost:8080/"
    },
    "id": "M1XVcro9LP-Q",
    "outputId": "379b53d3-9c23-4afa-cc74-389c24bbf9ad"
   },
   "outputs": [],
   "source": [
    "train.isnull().sum()"
   ]
  },
  {
   "cell_type": "code",
   "execution_count": null,
   "metadata": {
    "colab": {
     "base_uri": "https://localhost:8080/"
    },
    "id": "mVbGaHNqLP6d",
    "outputId": "0083a3e4-3184-4ad0-b7a7-38eacfab2ee6"
   },
   "outputs": [],
   "source": [
    "test.isnull().sum()"
   ]
  },
  {
   "cell_type": "code",
   "execution_count": null,
   "metadata": {
    "colab": {
     "base_uri": "https://localhost:8080/",
     "height": 266
    },
    "id": "88DUfoLuLP2a",
    "outputId": "9028da16-b44a-4652-e574-5c36f8a86c89"
   },
   "outputs": [],
   "source": [
    "train['Transported'].value_counts().plot.pie(autopct='%0.2f%%')"
   ]
  },
  {
   "cell_type": "code",
   "execution_count": null,
   "metadata": {
    "colab": {
     "base_uri": "https://localhost:8080/",
     "height": 297
    },
    "id": "ItnQ0TNHLPyd",
    "outputId": "e27f5b68-4845-43b5-930f-1fe7ee48b242"
   },
   "outputs": [],
   "source": [
    "sns.countplot(y=train.HomePlanet)"
   ]
  },
  {
   "cell_type": "code",
   "execution_count": null,
   "metadata": {
    "colab": {
     "base_uri": "https://localhost:8080/",
     "height": 297
    },
    "id": "Z--g7pXnLPu5",
    "outputId": "94d3dfa3-756d-484e-dd79-a445cf006d6e"
   },
   "outputs": [],
   "source": [
    "sns.countplot(y=train.CryoSleep)"
   ]
  },
  {
   "cell_type": "code",
   "execution_count": null,
   "metadata": {
    "colab": {
     "base_uri": "https://localhost:8080/",
     "height": 297
    },
    "id": "l-CI69_ELPq7",
    "outputId": "2290b22e-ae38-4c9e-f02d-476fdd7bc1d5"
   },
   "outputs": [],
   "source": [
    "sns.countplot(y=train.Destination)"
   ]
  },
  {
   "cell_type": "code",
   "execution_count": null,
   "metadata": {
    "colab": {
     "base_uri": "https://localhost:8080/",
     "height": 297
    },
    "id": "Oa0mQmKDLPnG",
    "outputId": "2024f1d3-4514-4965-844e-4d35648d5117"
   },
   "outputs": [],
   "source": [
    "sns.countplot(y=train.VIP)"
   ]
  },
  {
   "cell_type": "code",
   "execution_count": null,
   "metadata": {
    "colab": {
     "base_uri": "https://localhost:8080/",
     "height": 297
    },
    "id": "MBq0W45YLPhn",
    "outputId": "c5814f90-432f-4802-e9a3-8d54ef950582"
   },
   "outputs": [],
   "source": [
    "sns.histplot(x=train.Age,kde=True)"
   ]
  },
  {
   "cell_type": "code",
   "execution_count": null,
   "metadata": {
    "colab": {
     "base_uri": "https://localhost:8080/",
     "height": 331
    },
    "id": "mXynPeeiMzzW",
    "outputId": "7ed53149-1165-42ec-c177-f884da073f9e"
   },
   "outputs": [],
   "source": [
    "# checking the correlation of the features\n",
    "train.corr()"
   ]
  },
  {
   "cell_type": "code",
   "execution_count": null,
   "metadata": {
    "colab": {
     "base_uri": "https://localhost:8080/",
     "height": 396
    },
    "id": "CttFiWTeMlY6",
    "outputId": "01b94d4b-aa6d-49ef-c31f-706f0f4cc351"
   },
   "outputs": [],
   "source": [
    "# visualizing the correlation of the features\n",
    "plt.figure(figsize=(12, 6))\n",
    "sns.heatmap(train.corr(), annot=True, cmap='viridis')"
   ]
  },
  {
   "cell_type": "code",
   "execution_count": null,
   "metadata": {
    "id": "CHITfRfPMlUm"
   },
   "outputs": [],
   "source": [
    "# spliting the data into Dependent and independent variables\n",
    "\n",
    "X = train.drop('Transported', axis=1)\n",
    "y = train['Transported']"
   ]
  },
  {
   "cell_type": "code",
   "execution_count": null,
   "metadata": {
    "colab": {
     "base_uri": "https://localhost:8080/",
     "height": 287
    },
    "id": "68srDXTwMlPU",
    "outputId": "9eafa04f-0dd2-4a43-836b-2d887a1c9ce9"
   },
   "outputs": [],
   "source": [
    "# Format data with one-hot encoding\n",
    "X_encoded = pd.get_dummies(X, columns=['HomePlanet',\n",
    "                                               'CryoSleep',\n",
    "                                               'Destination',\n",
    "                                               'VIP',\n",
    "])\n",
    "\n",
    "X_encoded.head()"
   ]
  },
  {
   "cell_type": "code",
   "execution_count": null,
   "metadata": {
    "colab": {
     "base_uri": "https://localhost:8080/"
    },
    "id": "pop9QQ2LMlKm",
    "outputId": "669066f3-3d3d-4d71-abe7-11e30dd0322b"
   },
   "outputs": [],
   "source": [
    "X_encoded.shape"
   ]
  },
  {
   "cell_type": "code",
   "execution_count": null,
   "metadata": {
    "id": "drKKtPlMMlFF"
   },
   "outputs": [],
   "source": [
    "# spliting the encoded dataset\n",
    "\n",
    "X_train, X_test, y_train, y_test = train_test_split(X_encoded, y, random_state=42, test_size=0.3, stratify=y)"
   ]
  },
  {
   "cell_type": "markdown",
   "metadata": {
    "id": "cLSO6IzZTo8U"
   },
   "source": [
    "# Support Vector Machine (SVM)"
   ]
  },
  {
   "cell_type": "code",
   "execution_count": null,
   "metadata": {
    "id": "-ojZENJ4Mk-7"
   },
   "outputs": [],
   "source": [
    "# scalling the dataset\n",
    "\n",
    "X_train_scaled = scale(X_train)\n",
    "X_test_scaled = scale(X_test)"
   ]
  },
  {
   "cell_type": "code",
   "execution_count": null,
   "metadata": {
    "colab": {
     "base_uri": "https://localhost:8080/"
    },
    "id": "DT0jV7vRMk25",
    "outputId": "9158a8e0-7008-4eb8-c448-07224bfc6bc6"
   },
   "outputs": [],
   "source": [
    "X_train_scaled.shape"
   ]
  },
  {
   "cell_type": "code",
   "execution_count": null,
   "metadata": {
    "colab": {
     "base_uri": "https://localhost:8080/"
    },
    "id": "WMW5ZGaQQl2r",
    "outputId": "94c1037d-4e40-4b6c-c19e-b0c382e5ab6f"
   },
   "outputs": [],
   "source": [
    "X_test_scaled.shape"
   ]
  },
  {
   "cell_type": "code",
   "execution_count": null,
   "metadata": {
    "colab": {
     "base_uri": "https://localhost:8080/"
    },
    "id": "47ULQJBWQlyj",
    "outputId": "b4eb1715-e402-4608-9fa7-39257f616afd"
   },
   "outputs": [],
   "source": [
    "clf_svm = SVC(random_state=42)\n",
    "clf_svm.fit(X_train_scaled, y_train)\n",
    "clf_svm.score(X_train_scaled, y_train)"
   ]
  },
  {
   "cell_type": "code",
   "execution_count": null,
   "metadata": {
    "colab": {
     "base_uri": "https://localhost:8080/",
     "height": 354
    },
    "id": "i5h8JWgoQltR",
    "outputId": "8d993962-9a8b-47d4-8333-c362c6101c6a"
   },
   "outputs": [],
   "source": [
    "plot_confusion_matrix(clf_svm,\n",
    "                      X_test_scaled,\n",
    "                      y_test,\n",
    "                      values_format='d',\n",
    "                      display_labels=[\"Not Transported\", \"Transported\"])"
   ]
  },
  {
   "cell_type": "code",
   "execution_count": null,
   "metadata": {
    "colab": {
     "base_uri": "https://localhost:8080/"
    },
    "id": "Htvp0tkXQlm7",
    "outputId": "8544ac48-1057-4cb4-c1ec-2993cf56e2ef"
   },
   "outputs": [],
   "source": [
    "# param_grid = [\n",
    "#     {'C':[0.5, 1, 10, 100],\n",
    "#      'gamma': ['scale', 1, 0.1, 0.001, 0.0001],\n",
    "#      'kernel':['rbf']},\n",
    "    \n",
    "# ]\n",
    "\n",
    "# optimal_params = GridSearchCV(\n",
    "#     SVC(),\n",
    "#     param_grid,\n",
    "#     cv=5,\n",
    "#     scoring='accuracy',\n",
    "#     verbose=0\n",
    "# )\n",
    "\n",
    "# optimal_params.fit(X_train_scaled, y_train)\n",
    "# print(optimal_params.best_params_)"
   ]
  },
  {
   "cell_type": "code",
   "execution_count": null,
   "metadata": {
    "colab": {
     "base_uri": "https://localhost:8080/"
    },
    "id": "MtKH0QqsR-Z-",
    "outputId": "a1cba24e-ac34-4e3b-b295-300fbee7410b"
   },
   "outputs": [],
   "source": [
    "clf_svm = SVC(random_state=42, C=1, gamma=0.1)\n",
    "clf_svm.fit(X_train_scaled, y_train)\n",
    "clf_svm.score(X_train_scaled, y_train)"
   ]
  },
  {
   "cell_type": "code",
   "execution_count": null,
   "metadata": {
    "colab": {
     "base_uri": "https://localhost:8080/",
     "height": 354
    },
    "id": "fPBeaLEQR-Vo",
    "outputId": "22c535a7-1ece-4670-cc60-9d5ca87e9a5c"
   },
   "outputs": [],
   "source": [
    "plot_confusion_matrix(clf_svm,\n",
    "                      X_test_scaled,\n",
    "                      y_test,\n",
    "                      values_format='d',\n",
    "                      display_labels=[\"Not Transported\", \"Transported\"])"
   ]
  },
  {
   "cell_type": "markdown",
   "metadata": {
    "id": "ha_fFFrGTfuv"
   },
   "source": [
    "# XGBOOST"
   ]
  },
  {
   "cell_type": "code",
   "execution_count": null,
   "metadata": {
    "colab": {
     "base_uri": "https://localhost:8080/"
    },
    "id": "qH54F5W_R-Ra",
    "outputId": "68854a2b-6d05-45bc-f303-1b843949dcfb"
   },
   "outputs": [],
   "source": [
    "print(X_train.shape, X_test.shape, y_train.shape, y_test.shape)"
   ]
  },
  {
   "cell_type": "code",
   "execution_count": null,
   "metadata": {
    "colab": {
     "base_uri": "https://localhost:8080/"
    },
    "id": "Y2I8ZVpcR-Mq",
    "outputId": "6656018b-0911-451f-d213-4fcc064f0dca"
   },
   "outputs": [],
   "source": [
    "clf_xgb = xgb.XGBClassifier(objective='binary:logistic', missing=None, seed=42)\n",
    "clf_xgb.fit(X_train,\n",
    "            y_train,\n",
    "            verbose=False,\n",
    "            early_stopping_rounds=10,\n",
    "            eval_metric='aucpr',\n",
    "            eval_set=[(X_test, y_test)])"
   ]
  },
  {
   "cell_type": "code",
   "execution_count": null,
   "metadata": {
    "colab": {
     "base_uri": "https://localhost:8080/",
     "height": 354
    },
    "id": "ByZyQJC4R-G4",
    "outputId": "d205be22-d537-4a80-ce8e-535f3117eaf0"
   },
   "outputs": [],
   "source": [
    "plot_confusion_matrix(clf_xgb,\n",
    "                      X_test,\n",
    "                      y_test,\n",
    "                      values_format='d',\n",
    "                      display_labels=[\"Not Transported\", \"Transported\"])"
   ]
  },
  {
   "cell_type": "code",
   "execution_count": null,
   "metadata": {
    "colab": {
     "base_uri": "https://localhost:8080/"
    },
    "id": "TdKV2mvSR9_a",
    "outputId": "ec28c755-6ff5-492b-f686-6ee80cd14460"
   },
   "outputs": [],
   "source": [
    "#param_grid = {\n",
    "#    'max_depth': [3, 4, 5],\n",
    "#    'learning_rate': [0.1, 0.01, 0.05],\n",
    "#    'gamma': [0,0.25, 1.0],\n",
    "#    'reg_lambda': [0, 1.0, 10.0],\n",
    "#}\n",
    "\n",
    "# param_grid = {\n",
    "#    'max_depth': [5],\n",
    "#     'learning_rate': [0.1],\n",
    "#     'gamma': [0],\n",
    "#     'reg_lambda': [10],\n",
    "           \n",
    "# }\n",
    "\n",
    "# #colsample_bytree = 0.5),\n",
    "# optimal_params = GridSearchCV(estimator=xgb.XGBClassifier(objective='binary:logistic',\n",
    "#                                                           seed=42,\n",
    "#                                                           subsample=0.9,\n",
    "#                                                           colsample_bytree = 0.5),\n",
    "                                                          \n",
    "#                               param_grid=param_grid,\n",
    "#                               scoring='roc_auc',\n",
    "#                               verbose=0,\n",
    "#                               n_jobs=10,\n",
    "#                               cv = 3)\n",
    "\n",
    "# optimal_params.fit(X_train,\n",
    "#                    y_train,\n",
    "#                    early_stopping_rounds=10,\n",
    "#                    eval_metric='auc',\n",
    "#                    eval_set=[(X_test, y_test)],\n",
    "#                    verbose=False)\n",
    "        \n",
    "# print(optimal_params.best_params_)\n",
    "\n",
    "# Round 1  {'gamma': 0.25, 'learning_rate': 0.1, 'max_depth': 3, 'reg_lambda': 1.0}\n",
    "# Round 2  {'gamma': 0.25, 'learning_rate': 0.25, 'max_depth': 4, 'reg_lambda': 1.0}\n"
   ]
  },
  {
   "cell_type": "code",
   "execution_count": null,
   "metadata": {
    "colab": {
     "base_uri": "https://localhost:8080/"
    },
    "id": "eKkHg3t5Wu9n",
    "outputId": "eceeb584-4c8c-4709-c102-6cf160282968"
   },
   "outputs": [],
   "source": [
    "clf_xgb = xgb.XGBClassifier(seed=42,\n",
    "                            objective='binary:logistic',\n",
    "                            gamma=0,\n",
    "                            learning_rate=0.1,\n",
    "                            max_depth=5,\n",
    "                            reg_lambda=10,\n",
    "                            subsample=0.9,\n",
    "                            colsample_bytree=0.5)\n",
    "clf_xgb.fit(X_train,\n",
    "             y_train,\n",
    "             verbose=False,\n",
    "             early_stopping_rounds=10,\n",
    "             eval_metric='aucpr',\n",
    "             eval_set=[(X_test, y_test)])\n",
    "clf_xgb.score(X_train, y_train)   "
   ]
  },
  {
   "cell_type": "code",
   "execution_count": null,
   "metadata": {
    "colab": {
     "base_uri": "https://localhost:8080/",
     "height": 354
    },
    "id": "XabZ68VHWu5R",
    "outputId": "24a49bc0-d73d-4a2d-fe59-d9ebe2b511de"
   },
   "outputs": [],
   "source": [
    "plot_confusion_matrix(clf_xgb,\n",
    "                      X_test,\n",
    "                      y_test,\n",
    "                      values_format='d',\n",
    "                      display_labels=[\"Not Transported\", \"Transported\"])"
   ]
  },
  {
   "cell_type": "code",
   "execution_count": null,
   "metadata": {
    "colab": {
     "base_uri": "https://localhost:8080/"
    },
    "id": "wGADREMgWuvB",
    "outputId": "4d95a9b4-e908-43a9-e1b9-6496742b62f3"
   },
   "outputs": [],
   "source": [
    "from sklearn.linear_model import LogisticRegression\n",
    "logreg = LogisticRegression()\n",
    "\n",
    "logreg.fit(X_train_scaled, y_train)\n",
    "\n",
    "logreg.score(X_train_scaled, y_train)"
   ]
  },
  {
   "cell_type": "code",
   "execution_count": null,
   "metadata": {
    "colab": {
     "base_uri": "https://localhost:8080/",
     "height": 391
    },
    "id": "Di46E7MzbVgW",
    "outputId": "db1fe1f1-b2a6-4644-a9fd-bb3793d628b3"
   },
   "outputs": [],
   "source": [
    "plot_confusion_matrix(logreg,\n",
    "                      X_test,\n",
    "                      y_test,\n",
    "                      values_format='d',\n",
    "                      display_labels=[\"Not Transported\", \"Transported\"])"
   ]
  },
  {
   "cell_type": "code",
   "execution_count": null,
   "metadata": {
    "colab": {
     "base_uri": "https://localhost:8080/"
    },
    "id": "2L9nFGOEm-_k",
    "outputId": "80a6eba2-487e-415e-d4bf-f4de1084ab9a"
   },
   "outputs": [],
   "source": [
    "predictions=logreg.predict(X_test)\n",
    "predictions[0:10]"
   ]
  },
  {
   "cell_type": "code",
   "execution_count": null,
   "metadata": {
    "id": "lDwsC6bOnJs2"
   },
   "outputs": [],
   "source": [
    "#output = pd.DataFrame({'PassengerId': y_test.index, 'Transported': predictions})\n",
    "#output.to_csv('submission.csv', index=False)"
   ]
  },
  {
   "cell_type": "code",
   "execution_count": null,
   "metadata": {
    "id": "1psANM40z9OQ"
   },
   "outputs": [],
   "source": [
    "#output['Transported'] =output['Transported'].apply(lambda x:True if x==1 else False)"
   ]
  },
  {
   "cell_type": "code",
   "execution_count": null,
   "metadata": {
    "id": "1kTU1w9z0cNE"
   },
   "outputs": [],
   "source": [
    "#output.to_csv('submission3.csv', index=False)"
   ]
  },
  {
   "cell_type": "code",
   "execution_count": null,
   "metadata": {},
   "outputs": [],
   "source": [
    "output = pd.DataFrame({'PassengerId': y_test.index, 'Transported': predictions})"
   ]
  },
  {
   "cell_type": "code",
   "execution_count": null,
   "metadata": {},
   "outputs": [],
   "source": []
  }
 ],
 "metadata": {
  "colab": {
   "provenance": []
  },
  "kernelspec": {
   "display_name": "Python 3 (ipykernel)",
   "language": "python",
   "name": "python3"
  },
  "language_info": {
   "codemirror_mode": {
    "name": "ipython",
    "version": 3
   },
   "file_extension": ".py",
   "mimetype": "text/x-python",
   "name": "python",
   "nbconvert_exporter": "python",
   "pygments_lexer": "ipython3",
   "version": "3.9.7"
  }
 },
 "nbformat": 4,
 "nbformat_minor": 1
}
